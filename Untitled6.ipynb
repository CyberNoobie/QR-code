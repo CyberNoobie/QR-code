{
 "cells": [
  {
   "cell_type": "code",
   "execution_count": 9,
   "id": "d8512b2d",
   "metadata": {},
   "outputs": [],
   "source": [
    "#importing library\n",
    "import qrcode\n",
    "\n",
    "#data to encode\n",
    "data = \"Hackerone\"\n",
    "\n",
    "#creating an instance for QRcode class\n",
    "qr = qrcode.QRCode(version=1,\n",
    "                   box_size = 10)\n",
    "#Adding data to the instance 'qr'\n",
    "qr.add_data(data)\n",
    "\n",
    "qr.make(fit = True)\n",
    "img = qr.make_image(fill_color = 'blue',\n",
    "                   back_color='white')\n",
    "img.save('MyQRCode2.png')"
   ]
  },
  {
   "cell_type": "code",
   "execution_count": 6,
   "id": "fed31aad",
   "metadata": {},
   "outputs": [
    {
     "name": "stdout",
     "output_type": "stream",
     "text": [
      "Collecting qrcode\n",
      "  Downloading qrcode-7.4.2-py3-none-any.whl (46 kB)\n",
      "     -------------------------------------- 46.2/46.2 kB 461.0 kB/s eta 0:00:00\n",
      "Collecting pypng\n",
      "  Downloading pypng-0.20220715.0-py3-none-any.whl (58 kB)\n",
      "     -------------------------------------- 58.1/58.1 kB 339.1 kB/s eta 0:00:00\n",
      "Requirement already satisfied: typing-extensions in c:\\users\\jyoti\\anaconda3\\lib\\site-packages (from qrcode) (4.3.0)\n",
      "Requirement already satisfied: colorama in c:\\users\\jyoti\\anaconda3\\lib\\site-packages (from qrcode) (0.4.5)\n",
      "Installing collected packages: pypng, qrcode\n",
      "Successfully installed pypng-0.20220715.0 qrcode-7.4.2\n"
     ]
    }
   ],
   "source": [
    "!pip install qrcode"
   ]
  },
  {
   "cell_type": "code",
   "execution_count": null,
   "id": "d884cf74",
   "metadata": {},
   "outputs": [],
   "source": [
    "\"\""
   ]
  }
 ],
 "metadata": {
  "kernelspec": {
   "display_name": "Python 3 (ipykernel)",
   "language": "python",
   "name": "python3"
  },
  "language_info": {
   "codemirror_mode": {
    "name": "ipython",
    "version": 3
   },
   "file_extension": ".py",
   "mimetype": "text/x-python",
   "name": "python",
   "nbconvert_exporter": "python",
   "pygments_lexer": "ipython3",
   "version": "3.9.13"
  }
 },
 "nbformat": 4,
 "nbformat_minor": 5
}
